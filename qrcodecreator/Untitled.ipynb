{
 "cells": [
  {
   "cell_type": "code",
   "execution_count": 7,
   "id": "3c998b89-884f-42a6-83f2-d9cbf6f54b63",
   "metadata": {},
   "outputs": [],
   "source": [
    "import qrcode\n",
    "from PIL import Image\n",
    "from IPython.display import display"
   ]
  },
  {
   "cell_type": "code",
   "execution_count": 3,
   "id": "2c3a2835-44e2-4b1b-ba71-1a73c1752615",
   "metadata": {},
   "outputs": [
    {
     "data": {
      "text/plain": [
       "qrcode.image.pil.PilImage"
      ]
     },
     "execution_count": 3,
     "metadata": {},
     "output_type": "execute_result"
    }
   ],
   "source": [
    "img = qrcode.make('Hello')\n",
    "type(img)"
   ]
  },
  {
   "cell_type": "code",
   "execution_count": 4,
   "id": "12e6cbb6-8572-4569-bb35-d0b4ff2173ef",
   "metadata": {},
   "outputs": [],
   "source": [
    "img.save('Hello.png')"
   ]
  },
  {
   "cell_type": "code",
   "execution_count": 6,
   "id": "1e40a135-9303-47a0-b2f8-f9104ed8b07a",
   "metadata": {},
   "outputs": [
    {
     "data": {
      "text/plain": [
       "<_io.TextIOWrapper name='Hello.png' mode='r' encoding='cp1252'>"
      ]
     },
     "execution_count": 6,
     "metadata": {},
     "output_type": "execute_result"
    }
   ],
   "source": [
    "open(\"Hello.png\")"
   ]
  },
  {
   "cell_type": "code",
   "execution_count": 8,
   "id": "52e6e2f2-1a81-4a9a-b3b2-182d75de3bcf",
   "metadata": {},
   "outputs": [],
   "source": [
    "img = Image.open(\"Hello.png\")"
   ]
  },
  {
   "cell_type": "code",
   "execution_count": 9,
   "id": "d2e6942a-37e8-495e-87f0-09ff23048d68",
   "metadata": {},
   "outputs": [
    {
     "data": {
      "image/jpeg": "[encoded data removed]",
      "image/png": "[encoded data removed]",
      "text/plain": [
       "<PIL.PngImagePlugin.PngImageFile image mode=1 size=290x290>"
      ]
     },
     "metadata": {},
     "output_type": "display_data"
    }
   ],
   "source": [
    "display(img)"
   ]
  },
  {
   "cell_type": "raw",
   "id": "c8475c0d-02c3-4158-ad73-8264de797ace",
   "metadata": {},
   "source": [
    "def createShowQR(string):\n",
    "    img = qrcode.make(f\"{string}\")\n",
    "    "
   ]
  },
  {
   "cell_type": "code",
   "execution_count": 12,
   "id": "f67c7dfc-6495-4151-a448-9bfec3bce4ab",
   "metadata": {},
   "outputs": [],
   "source": [
    "def createShowQR(string):\n",
    "    img = qrcode.make(f\"{string}\")\n",
    "    img.save(f\"{string}.jpg\")\n",
    "    display(Image.open(f\"{string}.jpg\"))"
   ]
  },
  {
   "cell_type": "code",
   "execution_count": 14,
   "id": "1c039487-8aa7-4608-87bf-5d3b5edce7a3",
   "metadata": {},
   "outputs": [
    {
     "data": {
      "image/jpeg": "[encoded data removed]",
      "image/png": "[encoded data removed]",
      "text/plain": [
       "<PIL.PngImagePlugin.PngImageFile image mode=1 size=290x290>"
      ]
     },
     "metadata": {},
     "output_type": "display_data"
    }
   ],
   "source": [
    "createShowQR(\"Wooohooo\")"
   ]
  },
  {
   "cell_type": "code",
   "execution_count": null,
   "id": "f175cd40-3385-4aaf-a4f0-832cf1158022",
   "metadata": {},
   "outputs": [],
   "source": [
    "import tkinter as tk\n",
    "from tkinter import messagebox\n",
    "\n",
    "def submit_name():\n",
    "    name = entry.get()  # Get text from the entry widget\n",
    "    if not name:\n",
    "        name = \"Guest\"\n",
    "    messagebox.showinfo(\"Greeting\", f\"Hello, {name}!\")\n",
    "\n",
    "# Create main window\n",
    "root = tk.Tk()\n",
    "root.title(\"Simple App\")\n",
    "root.geometry(\"300x200\")\n",
    "\n",
    "# Label\n",
    "label = tk.Label(root, text=\"Enter your name:\")\n",
    "label.pack(pady=10)\n",
    "\n",
    "# Entry (Text input)\n",
    "entry = tk.Entry(root, width=25)\n",
    "entry.pack(pady=5)\n",
    "\n",
    "# Greet Button\n",
    "greet_button = tk.Button(\n",
    "    root,\n",
    "    text=\"Submit\",\n",
    "    command=submit_name,\n",
    "    bg=\"#4CAF50\",  # Green color\n",
    "    fg=\"white\"\n",
    ")\n",
    "greet_button.pack(pady=5)\n",
    "\n",
    "# Quit Button\n",
    "quit_button = tk.Button(\n",
    "    root,\n",
    "    text=\"Quit\",\n",
    "    command=root.destroy,\n",
    "    bg=\"#f44336\",  # Red color\n",
    "    fg=\"white\"\n",
    ")\n",
    "quit_button.pack(pady=5)\n",
    "\n",
    "# Start the GUI event loop\n",
    "root.mainloop()"
   ]
  },
  {
   "cell_type": "code",
   "execution_count": null,
   "id": "ddb05b97-15c1-40ed-aceb-69090d4f50b8",
   "metadata": {},
   "outputs": [],
   "source": []
  }
 ],
 "metadata": {
  "kernelspec": {
   "display_name": "Python 3 (ipykernel)",
   "language": "python",
   "name": "python3"
  },
  "language_info": {
   "codemirror_mode": {
    "name": "ipython",
    "version": 3
   },
   "file_extension": ".py",
   "mimetype": "text/x-python",
   "name": "python",
   "nbconvert_exporter": "python",
   "pygments_lexer": "ipython3",
   "version": "3.11.0"
  }
 },
 "nbformat": 4,
 "nbformat_minor": 5
}
